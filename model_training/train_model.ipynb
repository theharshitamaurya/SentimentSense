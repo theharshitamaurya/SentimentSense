{
  "nbformat": 4,
  "nbformat_minor": 0,
  "metadata": {
    "colab": {
      "provenance": []
    },
    "kernelspec": {
      "name": "python3",
      "display_name": "Python 3"
    },
    "language_info": {
      "name": "python"
    }
  },
  "cells": [
    {
      "cell_type": "code",
      "execution_count": 3,
      "metadata": {
        "colab": {
          "base_uri": "https://localhost:8080/"
        },
        "id": "kU9aq5X5iats",
        "outputId": "d7236aea-0cfd-43a8-e74c-1263cf2ab8dc"
      },
      "outputs": [
        {
          "output_type": "stream",
          "name": "stderr",
          "text": [
            "[nltk_data] Downloading package movie_reviews to /root/nltk_data...\n",
            "[nltk_data]   Package movie_reviews is already up-to-date!\n"
          ]
        },
        {
          "output_type": "stream",
          "name": "stdout",
          "text": [
            "Model training complete and saved as sentiment_model.pkl\n"
          ]
        }
      ],
      "source": [
        "# SentimentSense Model Training Notebook\n",
        "\n",
        "import nltk\n",
        "import pickle\n",
        "from sklearn.feature_extraction.text import CountVectorizer\n",
        "from sklearn.linear_model import LogisticRegression\n",
        "from sklearn.pipeline import Pipeline\n",
        "from nltk.corpus import movie_reviews\n",
        "\n",
        "# Download dataset\n",
        "nltk.download('movie_reviews')\n",
        "\n",
        "# Prepare dataset\n",
        "docs = []\n",
        "labels = []\n",
        "for fileid in movie_reviews.fileids():\n",
        "    docs.append(' '.join(movie_reviews.words(fileid)))\n",
        "    labels.append(1 if movie_reviews.categories(fileid)[0] == 'pos' else 0)\n",
        "\n",
        "# Build pipeline (vectorizer + classifier)\n",
        "pipeline = Pipeline([\n",
        "    ('vect', CountVectorizer(stop_words='english', max_features=3000)),\n",
        "    ('clf', LogisticRegression(solver='liblinear'))\n",
        "])\n",
        "\n",
        "# Train model\n",
        "pipeline.fit(docs, labels)\n",
        "\n",
        "# Save the trained model\n",
        "with open('sentiment_model.pkl', 'wb') as f:\n",
        "    pickle.dump(pipeline, f)\n",
        "\n",
        "print(\"Model training complete and saved as sentiment_model.pkl\")\n"
      ]
    },
    {
      "cell_type": "code",
      "source": [
        "from google.colab import files\n",
        "files.download('sentiment_model.pkl')\n"
      ],
      "metadata": {
        "colab": {
          "base_uri": "https://localhost:8080/",
          "height": 17
        },
        "id": "rvz4VXQSisV-",
        "outputId": "1b6131a7-b056-4e71-80f6-eb583dc29f67"
      },
      "execution_count": 4,
      "outputs": [
        {
          "output_type": "display_data",
          "data": {
            "text/plain": [
              "<IPython.core.display.Javascript object>"
            ],
            "application/javascript": [
              "\n",
              "    async function download(id, filename, size) {\n",
              "      if (!google.colab.kernel.accessAllowed) {\n",
              "        return;\n",
              "      }\n",
              "      const div = document.createElement('div');\n",
              "      const label = document.createElement('label');\n",
              "      label.textContent = `Downloading \"${filename}\": `;\n",
              "      div.appendChild(label);\n",
              "      const progress = document.createElement('progress');\n",
              "      progress.max = size;\n",
              "      div.appendChild(progress);\n",
              "      document.body.appendChild(div);\n",
              "\n",
              "      const buffers = [];\n",
              "      let downloaded = 0;\n",
              "\n",
              "      const channel = await google.colab.kernel.comms.open(id);\n",
              "      // Send a message to notify the kernel that we're ready.\n",
              "      channel.send({})\n",
              "\n",
              "      for await (const message of channel.messages) {\n",
              "        // Send a message to notify the kernel that we're ready.\n",
              "        channel.send({})\n",
              "        if (message.buffers) {\n",
              "          for (const buffer of message.buffers) {\n",
              "            buffers.push(buffer);\n",
              "            downloaded += buffer.byteLength;\n",
              "            progress.value = downloaded;\n",
              "          }\n",
              "        }\n",
              "      }\n",
              "      const blob = new Blob(buffers, {type: 'application/binary'});\n",
              "      const a = document.createElement('a');\n",
              "      a.href = window.URL.createObjectURL(blob);\n",
              "      a.download = filename;\n",
              "      div.appendChild(a);\n",
              "      a.click();\n",
              "      div.remove();\n",
              "    }\n",
              "  "
            ]
          },
          "metadata": {}
        },
        {
          "output_type": "display_data",
          "data": {
            "text/plain": [
              "<IPython.core.display.Javascript object>"
            ],
            "application/javascript": [
              "download(\"download_4483614a-43dd-4a98-87d3-9dfc00a2aa8c\", \"sentiment_model.pkl\", 110026)"
            ]
          },
          "metadata": {}
        }
      ]
    },
    {
      "cell_type": "code",
      "source": [],
      "metadata": {
        "id": "TISG4wPamIeH"
      },
      "execution_count": null,
      "outputs": []
    }
  ]
}